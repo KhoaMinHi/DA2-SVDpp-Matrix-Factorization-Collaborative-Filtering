{
  "cells": [
    {
      "cell_type": "markdown",
      "metadata": {
        "id": "yx0I8BJqIQGl"
      },
      "source": [
        "# **Adding library**"
      ]
    },
    {
      "cell_type": "code",
      "execution_count": null,
      "metadata": {
        "id": "FmZ2esUGq-eZ"
      },
      "outputs": [],
      "source": [
        "#adding library\n",
        "import numpy as np\n",
        "import pandas as pd\n",
        "import matplotlib.pyplot as plt\n",
        "#import random for random between a and b (not include a, b)\n",
        "import random"
      ]
    },
    {
      "cell_type": "markdown",
      "metadata": {
        "id": "4AB-SG4zIcsg"
      },
      "source": [
        "# **Pull data directly and unzip from grouplens website**"
      ]
    },
    {
      "cell_type": "code",
      "execution_count": null,
      "metadata": {
        "colab": {
          "base_uri": "https://localhost:8080/"
        },
        "id": "_aZPqxg9ptat",
        "outputId": "3a3ae441-c840-45a3-c0f7-44397c63dce1"
      },
      "outputs": [
        {
          "output_type": "stream",
          "name": "stdout",
          "text": [
            "File ‘ml-100k.zip’ already there; not retrieving.\n",
            "\n",
            "Archive:  ml-100k.zip\n"
          ]
        }
      ],
      "source": [
        "DATASET_LINK='http://files.grouplens.org/datasets/movielens/ml-100k.zip'\n",
        "!wget -nc http://files.grouplens.org/datasets/movielens/ml-100k.zip\n",
        "!unzip -n ml-100k.zip"
      ]
    },
    {
      "cell_type": "markdown",
      "metadata": {
        "id": "n9nRNeSdXUNP"
      },
      "source": [
        "# **Describe data, statistics data in general way**"
      ]
    },
    {
      "cell_type": "markdown",
      "metadata": {
        "id": "5mukBtyKJAtz"
      },
      "source": [
        "## *Describe*"
      ]
    },
    {
      "cell_type": "code",
      "execution_count": null,
      "metadata": {
        "colab": {
          "base_uri": "https://localhost:8080/",
          "height": 206
        },
        "id": "4uLQeQFQHBo9",
        "outputId": "52692729-8760-4a13-c32f-954a36f7ff2b"
      },
      "outputs": [
        {
          "output_type": "execute_result",
          "data": {
            "text/plain": [
              "   user id  movie id  rating  timestamp\n",
              "0      196       242       3  881250949\n",
              "1      186       302       3  891717742\n",
              "2       22       377       1  878887116\n",
              "3      244        51       2  880606923\n",
              "4      166       346       1  886397596"
            ],
            "text/html": [
              "\n",
              "  <div id=\"df-fea9e2e1-0d2a-4f33-91a4-9aab8ef88ce7\">\n",
              "    <div class=\"colab-df-container\">\n",
              "      <div>\n",
              "<style scoped>\n",
              "    .dataframe tbody tr th:only-of-type {\n",
              "        vertical-align: middle;\n",
              "    }\n",
              "\n",
              "    .dataframe tbody tr th {\n",
              "        vertical-align: top;\n",
              "    }\n",
              "\n",
              "    .dataframe thead th {\n",
              "        text-align: right;\n",
              "    }\n",
              "</style>\n",
              "<table border=\"1\" class=\"dataframe\">\n",
              "  <thead>\n",
              "    <tr style=\"text-align: right;\">\n",
              "      <th></th>\n",
              "      <th>user id</th>\n",
              "      <th>movie id</th>\n",
              "      <th>rating</th>\n",
              "      <th>timestamp</th>\n",
              "    </tr>\n",
              "  </thead>\n",
              "  <tbody>\n",
              "    <tr>\n",
              "      <th>0</th>\n",
              "      <td>196</td>\n",
              "      <td>242</td>\n",
              "      <td>3</td>\n",
              "      <td>881250949</td>\n",
              "    </tr>\n",
              "    <tr>\n",
              "      <th>1</th>\n",
              "      <td>186</td>\n",
              "      <td>302</td>\n",
              "      <td>3</td>\n",
              "      <td>891717742</td>\n",
              "    </tr>\n",
              "    <tr>\n",
              "      <th>2</th>\n",
              "      <td>22</td>\n",
              "      <td>377</td>\n",
              "      <td>1</td>\n",
              "      <td>878887116</td>\n",
              "    </tr>\n",
              "    <tr>\n",
              "      <th>3</th>\n",
              "      <td>244</td>\n",
              "      <td>51</td>\n",
              "      <td>2</td>\n",
              "      <td>880606923</td>\n",
              "    </tr>\n",
              "    <tr>\n",
              "      <th>4</th>\n",
              "      <td>166</td>\n",
              "      <td>346</td>\n",
              "      <td>1</td>\n",
              "      <td>886397596</td>\n",
              "    </tr>\n",
              "  </tbody>\n",
              "</table>\n",
              "</div>\n",
              "      <button class=\"colab-df-convert\" onclick=\"convertToInteractive('df-fea9e2e1-0d2a-4f33-91a4-9aab8ef88ce7')\"\n",
              "              title=\"Convert this dataframe to an interactive table.\"\n",
              "              style=\"display:none;\">\n",
              "        \n",
              "  <svg xmlns=\"http://www.w3.org/2000/svg\" height=\"24px\"viewBox=\"0 0 24 24\"\n",
              "       width=\"24px\">\n",
              "    <path d=\"M0 0h24v24H0V0z\" fill=\"none\"/>\n",
              "    <path d=\"M18.56 5.44l.94 2.06.94-2.06 2.06-.94-2.06-.94-.94-2.06-.94 2.06-2.06.94zm-11 1L8.5 8.5l.94-2.06 2.06-.94-2.06-.94L8.5 2.5l-.94 2.06-2.06.94zm10 10l.94 2.06.94-2.06 2.06-.94-2.06-.94-.94-2.06-.94 2.06-2.06.94z\"/><path d=\"M17.41 7.96l-1.37-1.37c-.4-.4-.92-.59-1.43-.59-.52 0-1.04.2-1.43.59L10.3 9.45l-7.72 7.72c-.78.78-.78 2.05 0 2.83L4 21.41c.39.39.9.59 1.41.59.51 0 1.02-.2 1.41-.59l7.78-7.78 2.81-2.81c.8-.78.8-2.07 0-2.86zM5.41 20L4 18.59l7.72-7.72 1.47 1.35L5.41 20z\"/>\n",
              "  </svg>\n",
              "      </button>\n",
              "      \n",
              "  <style>\n",
              "    .colab-df-container {\n",
              "      display:flex;\n",
              "      flex-wrap:wrap;\n",
              "      gap: 12px;\n",
              "    }\n",
              "\n",
              "    .colab-df-convert {\n",
              "      background-color: #E8F0FE;\n",
              "      border: none;\n",
              "      border-radius: 50%;\n",
              "      cursor: pointer;\n",
              "      display: none;\n",
              "      fill: #1967D2;\n",
              "      height: 32px;\n",
              "      padding: 0 0 0 0;\n",
              "      width: 32px;\n",
              "    }\n",
              "\n",
              "    .colab-df-convert:hover {\n",
              "      background-color: #E2EBFA;\n",
              "      box-shadow: 0px 1px 2px rgba(60, 64, 67, 0.3), 0px 1px 3px 1px rgba(60, 64, 67, 0.15);\n",
              "      fill: #174EA6;\n",
              "    }\n",
              "\n",
              "    [theme=dark] .colab-df-convert {\n",
              "      background-color: #3B4455;\n",
              "      fill: #D2E3FC;\n",
              "    }\n",
              "\n",
              "    [theme=dark] .colab-df-convert:hover {\n",
              "      background-color: #434B5C;\n",
              "      box-shadow: 0px 1px 3px 1px rgba(0, 0, 0, 0.15);\n",
              "      filter: drop-shadow(0px 1px 2px rgba(0, 0, 0, 0.3));\n",
              "      fill: #FFFFFF;\n",
              "    }\n",
              "  </style>\n",
              "\n",
              "      <script>\n",
              "        const buttonEl =\n",
              "          document.querySelector('#df-fea9e2e1-0d2a-4f33-91a4-9aab8ef88ce7 button.colab-df-convert');\n",
              "        buttonEl.style.display =\n",
              "          google.colab.kernel.accessAllowed ? 'block' : 'none';\n",
              "\n",
              "        async function convertToInteractive(key) {\n",
              "          const element = document.querySelector('#df-fea9e2e1-0d2a-4f33-91a4-9aab8ef88ce7');\n",
              "          const dataTable =\n",
              "            await google.colab.kernel.invokeFunction('convertToInteractive',\n",
              "                                                     [key], {});\n",
              "          if (!dataTable) return;\n",
              "\n",
              "          const docLinkHtml = 'Like what you see? Visit the ' +\n",
              "            '<a target=\"_blank\" href=https://colab.research.google.com/notebooks/data_table.ipynb>data table notebook</a>'\n",
              "            + ' to learn more about interactive tables.';\n",
              "          element.innerHTML = '';\n",
              "          dataTable['output_type'] = 'display_data';\n",
              "          await google.colab.output.renderOutput(dataTable, element);\n",
              "          const docLink = document.createElement('div');\n",
              "          docLink.innerHTML = docLinkHtml;\n",
              "          element.appendChild(docLink);\n",
              "        }\n",
              "      </script>\n",
              "    </div>\n",
              "  </div>\n",
              "  "
            ]
          },
          "metadata": {},
          "execution_count": 7
        }
      ],
      "source": [
        "# Viewing u.data file\n",
        "column_names1 = ['user id','movie id','rating','timestamp']\n",
        "df = pd.read_csv('ml-100k/u.data', sep='\\t',header=None,names=column_names1)\n",
        "df.head()"
      ]
    },
    {
      "cell_type": "code",
      "execution_count": null,
      "metadata": {
        "colab": {
          "base_uri": "https://localhost:8080/"
        },
        "id": "JfubGfSZHdRh",
        "outputId": "0361f0ff-9fb8-42a0-f198-eaabed119ae7"
      },
      "outputs": [
        {
          "output_type": "stream",
          "name": "stdout",
          "text": [
            "rating:\n",
            "5\n",
            "1\n",
            "4    34174\n",
            "3    27145\n",
            "5    21201\n",
            "2    11370\n",
            "1     6110\n",
            "Name: rating, dtype: int64\n",
            "user:\n",
            "405    737\n",
            "655    685\n",
            "13     636\n",
            "450    540\n",
            "276    518\n",
            "      ... \n",
            "441     20\n",
            "36      20\n",
            "812     20\n",
            "895     20\n",
            "93      20\n",
            "Name: user id, Length: 943, dtype: int64\n",
            "video:\n",
            "50      583\n",
            "258     509\n",
            "100     508\n",
            "181     507\n",
            "294     485\n",
            "       ... \n",
            "852       1\n",
            "1505      1\n",
            "1653      1\n",
            "1452      1\n",
            "1641      1\n",
            "Name: movie id, Length: 1682, dtype: int64\n"
          ]
        }
      ],
      "source": [
        "#check min, max rating and count how many the distincts value\n",
        "print(\"rating:\")\n",
        "print(df.rating.max())\n",
        "print(df.rating.min())\n",
        "print(df.rating.value_counts())\n",
        "\n",
        "#check how many the distincts value of users id\n",
        "print(\"user:\")\n",
        "print(df[\"user id\"].value_counts())\n",
        "#check how many the distincts value of video\n",
        "print(\"video:\")\n",
        "print(df[\"movie id\"].value_counts())"
      ]
    },
    {
      "cell_type": "code",
      "execution_count": null,
      "metadata": {
        "colab": {
          "base_uri": "https://localhost:8080/"
        },
        "id": "SxC3DdYT7j_4",
        "outputId": "76025028-310c-46f8-ed10-2357127a3747"
      },
      "outputs": [
        {
          "output_type": "execute_result",
          "data": {
            "text/plain": [
              "count    100000.000000\n",
              "mean          3.529860\n",
              "std           1.125674\n",
              "min           1.000000\n",
              "25%           3.000000\n",
              "50%           4.000000\n",
              "75%           4.000000\n",
              "max           5.000000\n",
              "Name: rating, dtype: float64"
            ]
          },
          "metadata": {},
          "execution_count": 7
        }
      ],
      "source": [
        "df['rating'].describe()"
      ]
    },
    {
      "cell_type": "markdown",
      "metadata": {
        "id": "kSxSUAQIJHJk"
      },
      "source": [
        "## *Statistics and charts*"
      ]
    },
    {
      "cell_type": "code",
      "execution_count": null,
      "metadata": {
        "colab": {
          "base_uri": "https://localhost:8080/",
          "height": 265
        },
        "id": "4rmY-0djWk8k",
        "outputId": "bab21586-2c54-44ea-d2dc-66d669ece9c3"
      },
      "outputs": [
        {
          "output_type": "display_data",
          "data": {
            "text/plain": [
              "<Figure size 432x288 with 1 Axes>"
            ],
            "image/png": "[encoded data removed]"
          },
          "metadata": {
            "needs_background": "light"
          }
        }
      ],
      "source": [
        "plt.hist(df['rating'], bins=np.arange(7)-0.5, ec=\"k\",log=True);\n",
        "plt.plot();\n",
        "plt.show();"
      ]
    },
    {
      "cell_type": "markdown",
      "metadata": {
        "id": "lj27CtJH2WuT"
      },
      "source": [
        "# **Offline phase**\n",
        "\n"
      ]
    },
    {
      "cell_type": "markdown",
      "metadata": {
        "id": "bVCU_D9Z7U-T"
      },
      "source": [
        "## *Build matrix factorization using svd++*\n"
      ]
    },
    {
      "cell_type": "code",
      "execution_count": null,
      "metadata": {
        "cellView": "code",
        "id": "vkcRiAh-hOJ3"
      },
      "outputs": [],
      "source": [
        "#@title Default title text\n",
        "class SVDpp:\n",
        "# Khởi tạo các biến cho class SVDpp\n",
        "# matrixDataSet là tập dữ liệu đưa vào (tập train), numFactor là số factor ẩn\n",
        "# bi là bias của item i, bu là bias của item u\n",
        "# qi là dictionary chứa những key (id item) và giá trị của key là ma trận (1 cột) \n",
        "#   numFactor số random trong nữa khoảng [0,1)\n",
        "# qu là dictionary chứa những key (id user) và giá trị của key là ma trận (1 cột)\n",
        "#   numFactor số random trong nữa khoảng [0,1)\n",
        "# yi là dictionary chứa những key (id item) và giá trị của key là ma trận (1 cột)\n",
        "#   numFactor số 0.1; đây là ma trận những nhân tố ẩn.\n",
        "# avg là trung bình rating của matrixDataSet đưa vào.\n",
        "# u_dict là dictionary chứa các key là user id và value là danh sách các item id\n",
        "#   mà user đó đã rate.\n",
        "    def __init__(self, matrixDataSet, numFactor=20):\n",
        "        self.matrixDataSet = np.array(matrixDataSet)\n",
        "        self.numFactor = numFactor\n",
        "        self.bi = {}\n",
        "        self.bu = {}\n",
        "        self.qi = {}\n",
        "        self.pu = {}\n",
        "        self.avg = np.mean(self.matrixDataSet[:, 2])\n",
        "        self.yi = {}\n",
        "        self.u_dict = {}\n",
        "        for i in range(self.matrixDataSet.shape[0]):\n",
        "            user_id = self.matrixDataSet[i, 0]\n",
        "            item_id = self.matrixDataSet[i, 1]\n",
        "            self.u_dict.setdefault(user_id, [])\n",
        "            self.u_dict[user_id].append(item_id)\n",
        "            self.bi.setdefault(item_id, 0)\n",
        "            self.bu.setdefault(user_id, 0)\n",
        "            self.qi.setdefault(item_id, np.random.random((self.numFactor, 1)))\n",
        "            self.pu.setdefault(user_id, np.random.random((self.numFactor, 1)))\n",
        "            self.yi.setdefault(item_id, np.zeros((self.numFactor, 1)) + .1)\n",
        "\n",
        "# Tính căn bậc 2 của Nu và Σyj. It used for predict, train method\n",
        "# Nu is the amount of item which user rated. Get from u_dict\n",
        "# userImplicitFactor is the result of sqrt(Nu) multiply Σyj\n",
        "    def getNuYj(self, user_id, item_id):\n",
        "            Nu = self.u_dict[user_id]\n",
        "            numItemOfNu = len(Nu)\n",
        "            sqrt_Nu = np.sqrt(numItemOfNu)\n",
        "            y_u = np.zeros((self.numFactor, 1))\n",
        "            if numItemOfNu == 0:\n",
        "                userImplicitFactor = y_u\n",
        "            else:\n",
        "                for idItem in Nu:\n",
        "                    y_u += self.yi[idItem]\n",
        "                userImplicitFactor = y_u / sqrt_Nu\n",
        "\n",
        "            return userImplicitFactor, sqrt_Nu\n",
        "\n",
        "# Hàm predict để predict rating\n",
        "# Phương thức setdefault là dành cho những item, user mới vào hệ thống\n",
        "#   và thiết lập bi, bu, qi, pu và yi bằng 0. Khởi tạo mảng item rỗng mà user id\n",
        "#   đã rate (chưa có gì)\n",
        "# Bởi vì score nằm trong đoạn từ 1 đến 5, khi điểm lớn hơn 5 trả về 5 \n",
        "# hoặc nhỏ hơn 1, 1 sẽ được trả về.\n",
        "    def predict(self, user_id, item_id):  \n",
        "        self.bi.setdefault(item_id, 0)\n",
        "        self.bu.setdefault(user_id, 0)\n",
        "        self.qi.setdefault(item_id, np.zeros((self.numFactor, 1)))\n",
        "        self.pu.setdefault(user_id, np.zeros((self.numFactor, 1)))\n",
        "        self.yi.setdefault(item_id, np.zeros((self.numFactor, 1)))\n",
        "        self.u_dict.setdefault(user_id, [])\n",
        "        userImplicitFactor, sqrt_Nu = self.getNuYj(user_id, item_id)\n",
        "        rating = self.avg + self.bi[item_id] + self.bu[user_id] + np.sum(\n",
        "            self.qi[item_id] * (self.pu[user_id] + userImplicitFactor))\n",
        "        if rating > 5:\n",
        "            rating = 5\n",
        "        if rating < 1:\n",
        "            rating = 1\n",
        "        return rating\n",
        "\n",
        "# Train function which is build by the matrix factorization and the svd++\n",
        "# Lambda thay cho lambda vì bị lỗi do trùng với anonymous function (lambda).\n",
        "# At the step 2 of docx, we get all pair of user, item, but here, we use number\n",
        "#   of the rating in dataset source and random to take by np.random.permutation()\n",
        "#   method which references n number and return an contigent array of the n number from 0 to n-1\n",
        "# Get all of rating in dataset: self.matrixDataSet.shape[0]\n",
        "    def train(self, epochs=20, alpha=0.005, Lambda=0.02):\n",
        "        for epoch in range(epochs):\n",
        "            print('epoch', epoch + 1, 'is running')\n",
        "            Yui = np.random.permutation(self.matrixDataSet.shape[0])\n",
        "            # Stochastic Gradient Descent\n",
        "            rmse = 0.0\n",
        "            for i in range(self.matrixDataSet.shape[0]):\n",
        "                j = Yui[i]\n",
        "                user_id = self.matrixDataSet[j, 0]\n",
        "                item_id = self.matrixDataSet[j, 1]\n",
        "                rating = self.matrixDataSet[j, 2]\n",
        "                predict = self.predict(user_id, item_id)\n",
        "                userImplicitFactor, sqrt_Nu = self.getNuYj(user_id, item_id)\n",
        "                eui = rating - predict #step 7\n",
        "                rmse += eui ** 2\n",
        "                tempPu = self.pu[user_id] - alpha * (Lambda * self.pu[user_id] - eui * self.qi[item_id])\n",
        "                tempQi = self.qi[item_id] - alpha * (Lambda * self.qi[item_id] - eui * (self.pu[user_id] + userImplicitFactor))\n",
        "                self.bu[user_id] -= alpha * (Lambda * self.bu[user_id] - eui) #step 10\n",
        "                self.bi[item_id] -= alpha * (Lambda * self.bi[item_id] - eui)\n",
        "                for j in self.u_dict[user_id]: #step 14\n",
        "                    self.yi[j] -= alpha * (Lambda * self.yi[j] - eui * self.qi[j] / sqrt_Nu)\n",
        "                self.pu[user_id] = tempPu\n",
        "                self.qi[item_id] = tempQi\n",
        "            print('rmse: ', np.sqrt(rmse / self.matrixDataSet.shape[0]))\n",
        "\n",
        "\n",
        "    def test(self, test_data):\n",
        "        test_data = np.array(test_data)\n",
        "        print('test data size: ', test_data.shape)\n",
        "        rmse = 0.0\n",
        "        for i in range(test_data.shape[0]):\n",
        "            user_id = test_data[i, 0]\n",
        "            item_id = test_data[i, 1]\n",
        "            rating = test_data[i, 2]\n",
        "            eui = rating - self.predict(user_id, item_id)\n",
        "            rmse += eui ** 2\n",
        "        print('rmse of test data is: ', np.sqrt(rmse / test_data.shape[0]))\n",
        "        return np.sqrt(rmse / test_data.shape[0])"
      ]
    },
    {
      "cell_type": "markdown",
      "metadata": {
        "id": "uwtLQT2V_9-x"
      },
      "source": [
        "## *Preparing data to train*"
      ]
    },
    {
      "cell_type": "markdown",
      "metadata": {
        "id": "dHO2aq7QGLRD"
      },
      "source": [
        "### - Random (or load if right) data to train and test"
      ]
    },
    {
      "cell_type": "code",
      "execution_count": null,
      "metadata": {
        "id": "vXL1-lkzG_Q6"
      },
      "outputs": [],
      "source": [
        "column_names1 = ['user id','movie id','rating','timestamp']\n",
        "datatrain = pd.read_csv('/content/ml-100k/u1.base', sep='\\t',header=None,names=column_names1)\n",
        "datatest = pd.read_csv('/content/ml-100k/u1.test', sep='\\t',header=None,names=column_names1)"
      ]
    },
    {
      "cell_type": "markdown",
      "metadata": {
        "id": "s7zILGS9FLNC"
      },
      "source": [
        "### - Check, filter data"
      ]
    },
    {
      "cell_type": "code",
      "execution_count": null,
      "metadata": {
        "id": "7gUvdGr-FWBs"
      },
      "outputs": [],
      "source": [
        "## Lấy dữ liệu và lọc dữ liệu (xóa duplicate, null, NaN)\n",
        "datatrain.dropna(inplace=True)\n",
        "datatrain.drop_duplicates(inplace=True)\n",
        "datatest.dropna(inplace=True)\n",
        "datatest.drop_duplicates(inplace=True)\n",
        "\n",
        "\n",
        "## Lấy dữ liệu gồm title, id phim từ u.item và lọc\n",
        "col = 'movie id | movie title | release date | video release date | IMDb URL | unknown | Action '\n",
        "col+= '| Adventure | Animation | Children | Comedy | Crime | Documentary | Drama | Fantasy | Film-Noir '\n",
        "col+= '| Horror | Musical | Mystery | Romance | Sci-Fi | Thriller | War | Western'\n",
        "colItem = col.split(' | ')\n",
        "movieItem = pd.read_csv('ml-100k/u.item', \n",
        "                        sep='|',header=None,names=colItem,encoding='latin-1')\n",
        "movieItem = movieItem[['movie id','movie title']]\n",
        "movieItem.dropna(inplace=True)\n",
        "movieItem.drop_duplicates(inplace=True)"
      ]
    },
    {
      "cell_type": "markdown",
      "metadata": {
        "id": "6cxwX3RVLJid"
      },
      "source": [
        "## *Training*"
      ]
    },
    {
      "cell_type": "markdown",
      "metadata": {
        "id": "seHI_Y43r53G"
      },
      "source": [
        "### 1. Predict before train (testing)"
      ]
    },
    {
      "cell_type": "code",
      "execution_count": null,
      "metadata": {
        "id": "RK923I_MrpwA"
      },
      "outputs": [],
      "source": [
        "numFactor = 20\n",
        "beforetrain = SVDpp(datatrain, numFactor)"
      ]
    },
    {
      "cell_type": "code",
      "execution_count": null,
      "metadata": {
        "colab": {
          "base_uri": "https://localhost:8080/"
        },
        "id": "_GbdVDPYsb2M",
        "outputId": "a1ee1273-4bf6-4800-fba1-b458619e3742"
      },
      "outputs": [
        {
          "output_type": "stream",
          "name": "stdout",
          "text": [
            "5\n",
            "5\n",
            "5\n"
          ]
        }
      ],
      "source": [
        "#196\t242\t3\t881250949\n",
        "#186\t302\t3\t891717742\n",
        "#22\t377\t1\t878887116\n",
        "print (beforetrain.predict(196, 242))\n",
        "print (beforetrain.predict(186\t,302))\n",
        "print (beforetrain.predict(22,\t377))"
      ]
    },
    {
      "cell_type": "markdown",
      "metadata": {
        "id": "2Y6EgzLzB-sW"
      },
      "source": [
        "### 2. To train\n",
        "epochs=20, numFactor=10,\n",
        "times~=40'"
      ]
    },
    {
      "cell_type": "code",
      "execution_count": null,
      "metadata": {
        "colab": {
          "base_uri": "https://localhost:8080/"
        },
        "id": "9RjcP38jF__9",
        "outputId": "c87fc80c-da15-4ebd-acfc-2252f625e58c"
      },
      "outputs": [
        {
          "output_type": "stream",
          "name": "stdout",
          "text": [
            "epoch 1 is running\n",
            "rmse:  1.1418633334993153\n",
            "epoch 2 is running\n",
            "rmse:  1.0078133215799512\n",
            "epoch 3 is running\n",
            "rmse:  0.975830914253232\n",
            "epoch 4 is running\n",
            "rmse:  0.9569562249880843\n",
            "epoch 5 is running\n",
            "rmse:  0.9437353513493676\n"
          ]
        }
      ],
      "source": [
        "numFactor = 10\n",
        "model = SVDpp(datatrain, numFactor)\n",
        "model.train(epochs=5)"
      ]
    },
    {
      "cell_type": "markdown",
      "metadata": {
        "id": "qZeHGiXrsUM2"
      },
      "source": [
        "### 3. After trained (testing)"
      ]
    },
    {
      "cell_type": "code",
      "execution_count": null,
      "metadata": {
        "colab": {
          "base_uri": "https://localhost:8080/"
        },
        "id": "0oJBsipOHsq1",
        "outputId": "be140472-a798-4fed-b502-c2727f54af1f"
      },
      "outputs": [
        {
          "output_type": "stream",
          "name": "stdout",
          "text": [
            "20000\n",
            "test data size 20000\n",
            "test data size:  (20000, 4)\n",
            "rmse of test data is:  1.0033410661590405\n",
            "         10\n",
            "0  1.003341\n"
          ]
        }
      ],
      "source": [
        "print (datatest.shape[0])\n",
        "test_data = np.array(datatest)\n",
        "print('test data size', datatest.shape[0])\n",
        "table={}\n",
        "table[numFactor] = [model.test(datatest)]\n",
        "# Create DataFrame\n",
        "df = pd.DataFrame(table)\n",
        "\n",
        "# Print the output.\n",
        "print(df)"
      ]
    },
    {
      "cell_type": "code",
      "execution_count": null,
      "metadata": {
        "colab": {
          "base_uri": "https://localhost:8080/"
        },
        "id": "LwsxLUJv284d",
        "outputId": "bf8be6f4-ca69-4e3b-c06e-d14e64deb3e4"
      },
      "outputs": [
        {
          "output_type": "stream",
          "name": "stdout",
          "text": [
            "4.261731867950952\n",
            "3.6691783734742396\n",
            "2.730751065208784\n",
            "===================\n",
            "4.1063066705884195\n",
            "4.107204435499964\n",
            "===================\n",
            "4.355582033975845\n",
            "3.7932378729185645\n"
          ]
        }
      ],
      "source": [
        "# predict rating\n",
        "#196\t242\t3\n",
        "#186\t302\t3\n",
        "#22\t377\t1\n",
        "print (model.predict(196, 242))\n",
        "print (model.predict(186\t,302))\n",
        "print (model.predict(22,\t377))\n",
        "\n",
        "#1\t6\t5\t887431973\n",
        "#1\t10\t3\t875693118\n",
        "print(\"===================\")\n",
        "print (model.predict(1\t,6))\n",
        "print (model.predict(1,\t10))\n",
        "\n",
        "#247\t50\t5\t893097024\n",
        "#328\t470\t4\t885046537\n",
        "print(\"===================\")\n",
        "print (model.predict(247\t,50))\n",
        "print (model.predict(328,\t470))"
      ]
    },
    {
      "cell_type": "markdown",
      "metadata": {
        "id": "n98yfwMw3nAs"
      },
      "source": [
        "Cho thấy việc predict ngày càng chính xác hơn nếu chúng ta build với epoch, numfactor cao hơn (không quá cao). Epoch cỡ 100-200, numFactor cỡ 20!?"
      ]
    },
    {
      "cell_type": "markdown",
      "metadata": {
        "id": "uOgfnATELiIJ"
      },
      "source": [
        "## *Train more*"
      ]
    },
    {
      "cell_type": "markdown",
      "source": [
        "### *Train thay đổi epochs, numFactor trên 1 tập dữ liệu train u1.base*"
      ],
      "metadata": {
        "id": "Sygc3xxBb4r9"
      }
    },
    {
      "cell_type": "markdown",
      "metadata": {
        "id": "gkSoRp-ULsEw"
      },
      "source": [
        "epochs=50, numFactor=20 => times ~= 1h30"
      ]
    },
    {
      "cell_type": "code",
      "execution_count": null,
      "metadata": {
        "id": "FOQ1uFvULrNf",
        "colab": {
          "base_uri": "https://localhost:8080/"
        },
        "outputId": "96d0b367-2e98-47cb-8361-6774d88d325d"
      },
      "outputs": [
        {
          "output_type": "stream",
          "name": "stdout",
          "text": [
            "epoch 1 is running\n",
            "rmse:  1.2127756322517043\n",
            "epoch 2 is running\n",
            "rmse:  1.0403626458905162\n",
            "epoch 3 is running\n",
            "rmse:  0.9966144720109955\n",
            "epoch 4 is running\n",
            "rmse:  0.9689930278485509\n",
            "epoch 5 is running\n",
            "rmse:  0.9493579319364884\n",
            "epoch 6 is running\n",
            "rmse:  0.9340799476830878\n",
            "epoch 7 is running\n",
            "rmse:  0.9213990170670386\n",
            "epoch 8 is running\n",
            "rmse:  0.9102606720777253\n",
            "epoch 9 is running\n",
            "rmse:  0.9003509134253267\n",
            "epoch 10 is running\n",
            "rmse:  0.8918298720004196\n",
            "epoch 11 is running\n",
            "rmse:  0.8835142120594934\n",
            "epoch 12 is running\n",
            "rmse:  0.8753327946592122\n",
            "epoch 13 is running\n",
            "rmse:  0.8678003686575411\n",
            "epoch 14 is running\n",
            "rmse:  0.8602283844580954\n",
            "epoch 15 is running\n",
            "rmse:  0.8529303925159406\n",
            "epoch 16 is running\n",
            "rmse:  0.8453384530210101\n",
            "epoch 17 is running\n",
            "rmse:  0.8385642309939273\n",
            "epoch 18 is running\n",
            "rmse:  0.8307618013909703\n",
            "epoch 19 is running\n",
            "rmse:  0.8239128102961274\n",
            "epoch 20 is running\n",
            "rmse:  0.8166723778914584\n",
            "epoch 21 is running\n",
            "rmse:  0.8091798190573646\n",
            "epoch 22 is running\n",
            "rmse:  0.8024496419796235\n",
            "epoch 23 is running\n",
            "rmse:  0.7951928681525029\n",
            "epoch 24 is running\n",
            "rmse:  0.7882633879611802\n",
            "epoch 25 is running\n",
            "rmse:  0.7815436001629945\n",
            "epoch 26 is running\n",
            "rmse:  0.7750248447476693\n",
            "epoch 27 is running\n",
            "rmse:  0.7679901922795981\n",
            "epoch 28 is running\n",
            "rmse:  0.7618268230656972\n",
            "epoch 29 is running\n",
            "rmse:  0.7556118256627662\n",
            "epoch 30 is running\n",
            "rmse:  0.7495638275707884\n",
            "epoch 31 is running\n",
            "rmse:  0.7439158731586806\n",
            "epoch 32 is running\n",
            "rmse:  0.738036383941765\n",
            "epoch 33 is running\n",
            "rmse:  0.7325171203014149\n",
            "epoch 34 is running\n",
            "rmse:  0.7271734864548589\n",
            "epoch 35 is running\n",
            "rmse:  0.7220408133576128\n",
            "epoch 36 is running\n",
            "rmse:  0.71732037505696\n",
            "epoch 37 is running\n",
            "rmse:  0.7122539752804995\n",
            "epoch 38 is running\n",
            "rmse:  0.7076133599189759\n",
            "epoch 39 is running\n",
            "rmse:  0.7030782681796666\n",
            "epoch 40 is running\n",
            "rmse:  0.6990017313937216\n",
            "epoch 41 is running\n",
            "rmse:  0.6947002022504455\n",
            "epoch 42 is running\n",
            "rmse:  0.6906709769359531\n",
            "epoch 43 is running\n",
            "rmse:  0.6867905617983358\n",
            "epoch 44 is running\n",
            "rmse:  0.6830504310640177\n",
            "epoch 45 is running\n",
            "rmse:  0.6794765308764734\n",
            "epoch 46 is running\n",
            "rmse:  0.6758920044535838\n",
            "epoch 47 is running\n",
            "rmse:  0.6724252788823156\n",
            "epoch 48 is running\n",
            "rmse:  0.6693286143859676\n",
            "epoch 49 is running\n",
            "rmse:  0.666074298413265\n",
            "epoch 50 is running\n",
            "rmse:  0.6631080005987623\n"
          ]
        }
      ],
      "source": [
        "modelFifTwe = SVDpp(datatrain, numFactor=20)\n",
        "modelFifTwe.train(epochs=50)"
      ]
    },
    {
      "cell_type": "code",
      "source": [
        "# predict rating\n",
        "#196\t242\t3\n",
        "#186\t302\t3\n",
        "#22\t377\t1\n",
        "print (modelFifTwe.predict(196, 242))\n",
        "print (modelFifTwe.predict(186\t,302))\n",
        "print (modelFifTwe.predict(22,\t377))\n",
        "\n",
        "#1\t6\t5\t\n",
        "#1\t10\t3\t\n",
        "print(\"===================\")\n",
        "print (modelFifTwe.predict(1\t,6))\n",
        "print (modelFifTwe.predict(1,\t10))\n",
        "\n",
        "#247\t50\t5\t\n",
        "#328\t470\t4\t\n",
        "print(\"===================\")\n",
        "print (modelFifTwe.predict(247\t,50))\n",
        "print (modelFifTwe.predict(328,\t470))"
      ],
      "metadata": {
        "id": "7Ao3pEfAaFcm",
        "colab": {
          "base_uri": "https://localhost:8080/"
        },
        "outputId": "65c7e359-3345-479e-ab12-5aff944efec8"
      },
      "execution_count": null,
      "outputs": [
        {
          "output_type": "stream",
          "name": "stdout",
          "text": [
            "3.8358237744887047\n",
            "2.9166611662620197\n",
            "2.6927850006931315\n",
            "===================\n",
            "3.607549634044278\n",
            "3.062126955587438\n",
            "===================\n",
            "4.400828893820662\n",
            "3.8912683263094645\n"
          ]
        }
      ]
    },
    {
      "cell_type": "markdown",
      "metadata": {
        "id": "eq3yH3w8blDw"
      },
      "source": [
        "epochs=100 numFactor=20"
      ]
    },
    {
      "cell_type": "code",
      "execution_count": null,
      "metadata": {
        "id": "yPX5gIIzblD1",
        "colab": {
          "base_uri": "https://localhost:8080/",
          "height": 1000
        },
        "outputId": "2c172c06-1180-4d1c-f261-1a4583ff7f5f"
      },
      "outputs": [
        {
          "output_type": "stream",
          "name": "stdout",
          "text": [
            "epoch 1 is running\n",
            "rmse:  1.2098767865103766\n",
            "epoch 2 is running\n",
            "rmse:  1.0367281571458218\n",
            "epoch 3 is running\n",
            "rmse:  0.9933641436948908\n",
            "epoch 4 is running\n",
            "rmse:  0.966272277918801\n",
            "epoch 5 is running\n",
            "rmse:  0.9468591932015173\n",
            "epoch 6 is running\n",
            "rmse:  0.9315970173059981\n",
            "epoch 7 is running\n",
            "rmse:  0.9195135965814174\n",
            "epoch 8 is running\n",
            "rmse:  0.9080633188939393\n",
            "epoch 9 is running\n",
            "rmse:  0.8985438584164058\n",
            "epoch 10 is running\n",
            "rmse:  0.889806933962878\n",
            "epoch 11 is running\n",
            "rmse:  0.8810481209947766\n",
            "epoch 12 is running\n",
            "rmse:  0.8730353331801601\n",
            "epoch 13 is running\n",
            "rmse:  0.8650391225096681\n",
            "epoch 14 is running\n",
            "rmse:  0.8574074469429468\n",
            "epoch 15 is running\n",
            "rmse:  0.8497473224204901\n",
            "epoch 16 is running\n",
            "rmse:  0.84235440392463\n",
            "epoch 17 is running\n",
            "rmse:  0.8347225271701153\n",
            "epoch 18 is running\n",
            "rmse:  0.8274305428979001\n",
            "epoch 19 is running\n",
            "rmse:  0.8199427241921706\n",
            "epoch 20 is running\n",
            "rmse:  0.8128495620162429\n",
            "epoch 21 is running\n",
            "rmse:  0.8055256601842096\n",
            "epoch 22 is running\n",
            "rmse:  0.798356097030288\n",
            "epoch 23 is running\n",
            "rmse:  0.7912215986991809\n",
            "epoch 24 is running\n",
            "rmse:  0.7845070447279319\n",
            "epoch 25 is running\n",
            "rmse:  0.7776915422759539\n",
            "epoch 26 is running\n",
            "rmse:  0.7710288176403494\n",
            "epoch 27 is running\n",
            "rmse:  0.7647372444264824\n",
            "epoch 28 is running\n",
            "rmse:  0.7582217954981393\n",
            "epoch 29 is running\n",
            "rmse:  0.7521802567293936\n",
            "epoch 30 is running\n",
            "rmse:  0.746479298749226\n",
            "epoch 31 is running\n",
            "rmse:  0.740734480123961\n",
            "epoch 32 is running\n",
            "rmse:  0.7352595861208648\n",
            "epoch 33 is running\n",
            "rmse:  0.7296239063780716\n",
            "epoch 34 is running\n",
            "rmse:  0.724470418139967\n",
            "epoch 35 is running\n",
            "rmse:  0.7193434291173022\n",
            "epoch 36 is running\n",
            "rmse:  0.7146694266360712\n",
            "epoch 37 is running\n",
            "rmse:  0.7100117218941985\n",
            "epoch 38 is running\n",
            "rmse:  0.7054604005603358\n",
            "epoch 39 is running\n",
            "rmse:  0.7009939765441616\n",
            "epoch 40 is running\n",
            "rmse:  0.6967374549746668\n",
            "epoch 41 is running\n",
            "rmse:  0.6927150482472687\n",
            "epoch 42 is running\n",
            "rmse:  0.6887274517434014\n",
            "epoch 43 is running\n",
            "rmse:  0.6849385672710782\n",
            "epoch 44 is running\n",
            "rmse:  0.6811068988391692\n",
            "epoch 45 is running\n",
            "rmse:  0.6774635440478272\n",
            "epoch 46 is running\n",
            "rmse:  0.6741126099832522\n",
            "epoch 47 is running\n",
            "rmse:  0.6708145482266948\n",
            "epoch 48 is running\n",
            "rmse:  0.6673400178843552\n",
            "epoch 49 is running\n",
            "rmse:  0.6642927453350979\n",
            "epoch 50 is running\n",
            "rmse:  0.6614466124999345\n",
            "epoch 51 is running\n",
            "rmse:  0.6583661910997277\n",
            "epoch 52 is running\n",
            "rmse:  0.6555890007121626\n",
            "epoch 53 is running\n",
            "rmse:  0.652949357076066\n",
            "epoch 54 is running\n",
            "rmse:  0.6500482037444171\n",
            "epoch 55 is running\n",
            "rmse:  0.6474235058286669\n",
            "epoch 56 is running\n",
            "rmse:  0.6449629542773591\n",
            "epoch 57 is running\n",
            "rmse:  0.6426387601251847\n",
            "epoch 58 is running\n",
            "rmse:  0.6401317203740141\n",
            "epoch 59 is running\n",
            "rmse:  0.637991768341943\n",
            "epoch 60 is running\n",
            "rmse:  0.6356350088371648\n",
            "epoch 61 is running\n",
            "rmse:  0.6334625764575927\n",
            "epoch 62 is running\n",
            "rmse:  0.6315490476289268\n",
            "epoch 63 is running\n",
            "rmse:  0.6292958262250943\n",
            "epoch 64 is running\n",
            "rmse:  0.6273448280977129\n",
            "epoch 65 is running\n",
            "rmse:  0.6253844670434823\n",
            "epoch 66 is running\n",
            "rmse:  0.6235290124061111\n",
            "epoch 67 is running\n",
            "rmse:  0.6217431116202959\n",
            "epoch 68 is running\n",
            "rmse:  0.6198382948786076\n",
            "epoch 69 is running\n",
            "rmse:  0.6179657663498166\n",
            "epoch 70 is running\n",
            "rmse:  0.6163242136794795\n",
            "epoch 71 is running\n",
            "rmse:  0.6146728301615916\n",
            "epoch 72 is running\n",
            "rmse:  0.6132103358566666\n",
            "epoch 73 is running\n",
            "rmse:  0.6114541474153473\n",
            "epoch 74 is running\n",
            "rmse:  0.6099946988939398\n",
            "epoch 75 is running\n",
            "rmse:  0.6084696230663496\n",
            "epoch 76 is running\n",
            "rmse:  0.6070544833263765\n",
            "epoch 77 is running\n",
            "rmse:  0.605652755132349\n",
            "epoch 78 is running\n",
            "rmse:  0.6042519818014648\n",
            "epoch 79 is running\n",
            "rmse:  0.6028414739182921\n",
            "epoch 80 is running\n",
            "rmse:  0.601567823956717\n",
            "epoch 81 is running\n",
            "rmse:  0.6002593153800289\n",
            "epoch 82 is running\n",
            "rmse:  0.598971810167066\n",
            "epoch 83 is running\n",
            "rmse:  0.5976157393737924\n",
            "epoch 84 is running\n",
            "rmse:  0.5965039834320961\n",
            "epoch 85 is running\n"
          ]
        },
        {
          "output_type": "error",
          "ename": "KeyboardInterrupt",
          "evalue": "ignored",
          "traceback": [
            "\u001b[0;31m---------------------------------------------------------------------------\u001b[0m",
            "\u001b[0;31mKeyboardInterrupt\u001b[0m                         Traceback (most recent call last)",
            "\u001b[0;32m<ipython-input-21-006543b177df>\u001b[0m in \u001b[0;36m<module>\u001b[0;34m()\u001b[0m\n\u001b[1;32m      1\u001b[0m \u001b[0mmodelHundFif\u001b[0m \u001b[0;34m=\u001b[0m \u001b[0mSVDpp\u001b[0m\u001b[0;34m(\u001b[0m\u001b[0mdatatrain\u001b[0m\u001b[0;34m,\u001b[0m \u001b[0mnumFactor\u001b[0m\u001b[0;34m=\u001b[0m\u001b[0;36m20\u001b[0m\u001b[0;34m)\u001b[0m\u001b[0;34m\u001b[0m\u001b[0;34m\u001b[0m\u001b[0m\n\u001b[0;32m----> 2\u001b[0;31m \u001b[0mmodelHundFif\u001b[0m\u001b[0;34m.\u001b[0m\u001b[0mtrain\u001b[0m\u001b[0;34m(\u001b[0m\u001b[0mepochs\u001b[0m\u001b[0;34m=\u001b[0m\u001b[0;36m100\u001b[0m\u001b[0;34m)\u001b[0m\u001b[0;34m\u001b[0m\u001b[0;34m\u001b[0m\u001b[0m\n\u001b[0m",
            "\u001b[0;32m<ipython-input-9-42401fe035e7>\u001b[0m in \u001b[0;36mtrain\u001b[0;34m(self, epochs, alpha, Lambda)\u001b[0m\n\u001b[1;32m    101\u001b[0m                 \u001b[0mself\u001b[0m\u001b[0;34m.\u001b[0m\u001b[0mqi\u001b[0m\u001b[0;34m[\u001b[0m\u001b[0mitem_id\u001b[0m\u001b[0;34m]\u001b[0m \u001b[0;34m=\u001b[0m \u001b[0mtempQi\u001b[0m\u001b[0;34m\u001b[0m\u001b[0;34m\u001b[0m\u001b[0m\n\u001b[1;32m    102\u001b[0m                 \u001b[0;32mfor\u001b[0m \u001b[0mj\u001b[0m \u001b[0;32min\u001b[0m \u001b[0mself\u001b[0m\u001b[0;34m.\u001b[0m\u001b[0mu_dict\u001b[0m\u001b[0;34m[\u001b[0m\u001b[0muser_id\u001b[0m\u001b[0;34m]\u001b[0m\u001b[0;34m:\u001b[0m \u001b[0;31m#step 14\u001b[0m\u001b[0;34m\u001b[0m\u001b[0;34m\u001b[0m\u001b[0m\n\u001b[0;32m--> 103\u001b[0;31m                     \u001b[0mself\u001b[0m\u001b[0;34m.\u001b[0m\u001b[0myi\u001b[0m\u001b[0;34m[\u001b[0m\u001b[0mj\u001b[0m\u001b[0;34m]\u001b[0m \u001b[0;34m-=\u001b[0m \u001b[0malpha\u001b[0m \u001b[0;34m*\u001b[0m \u001b[0;34m(\u001b[0m\u001b[0mLambda\u001b[0m \u001b[0;34m*\u001b[0m \u001b[0mself\u001b[0m\u001b[0;34m.\u001b[0m\u001b[0myi\u001b[0m\u001b[0;34m[\u001b[0m\u001b[0mj\u001b[0m\u001b[0;34m]\u001b[0m \u001b[0;34m-\u001b[0m \u001b[0meui\u001b[0m \u001b[0;34m*\u001b[0m \u001b[0mself\u001b[0m\u001b[0;34m.\u001b[0m\u001b[0mqi\u001b[0m\u001b[0;34m[\u001b[0m\u001b[0mj\u001b[0m\u001b[0;34m]\u001b[0m \u001b[0;34m/\u001b[0m \u001b[0msqrt_Nu\u001b[0m\u001b[0;34m)\u001b[0m\u001b[0;34m\u001b[0m\u001b[0;34m\u001b[0m\u001b[0m\n\u001b[0m\u001b[1;32m    104\u001b[0m             \u001b[0mprint\u001b[0m\u001b[0;34m(\u001b[0m\u001b[0;34m'rmse: '\u001b[0m\u001b[0;34m,\u001b[0m \u001b[0mnp\u001b[0m\u001b[0;34m.\u001b[0m\u001b[0msqrt\u001b[0m\u001b[0;34m(\u001b[0m\u001b[0mrmse\u001b[0m \u001b[0;34m/\u001b[0m \u001b[0mself\u001b[0m\u001b[0;34m.\u001b[0m\u001b[0mmatrixDataSet\u001b[0m\u001b[0;34m.\u001b[0m\u001b[0mshape\u001b[0m\u001b[0;34m[\u001b[0m\u001b[0;36m0\u001b[0m\u001b[0;34m]\u001b[0m\u001b[0;34m)\u001b[0m\u001b[0;34m)\u001b[0m\u001b[0;34m\u001b[0m\u001b[0;34m\u001b[0m\u001b[0m\n\u001b[1;32m    105\u001b[0m \u001b[0;34m\u001b[0m\u001b[0m\n",
            "\u001b[0;31mKeyboardInterrupt\u001b[0m: "
          ]
        }
      ],
      "source": [
        "modelHundFif = SVDpp(datatrain, numFactor=20)\n",
        "modelHundFif.train(epochs=100)"
      ]
    },
    {
      "cell_type": "code",
      "source": [
        "# predict rating\n",
        "#196\t242\t3\n",
        "#186\t302\t3\n",
        "#22\t377\t1\n",
        "print (modelHundFif.predict(196, 242))\n",
        "print (modelHundFif.predict(186\t,302))\n",
        "print (modelHundFif.predict(22,\t377))\n",
        "\n",
        "#1\t6\t5\t\n",
        "#1\t10\t3\t\n",
        "print(\"===================\")\n",
        "print (modelHundFif.predict(1\t,6))\n",
        "print (modelHundFif.predict(1,\t10))\n",
        "\n",
        "#247\t50\t5\t\n",
        "#328\t470\t4\t\n",
        "print(\"===================\")\n",
        "print (modelHundFif.predict(247\t,50))\n",
        "print (modelHundFif.predict(328,\t470))"
      ],
      "metadata": {
        "id": "xsL9EmxFf_u1",
        "colab": {
          "base_uri": "https://localhost:8080/"
        },
        "outputId": "0ea43c01-b599-460b-9874-d2d46b538448"
      },
      "execution_count": null,
      "outputs": [
        {
          "output_type": "stream",
          "name": "stdout",
          "text": [
            "3.6272367747277787\n",
            "3.3581318071006887\n",
            "1.7370827321949707\n",
            "===================\n",
            "2.6245754557217977\n",
            "3.9029981473726507\n",
            "===================\n",
            "4.334241515462834\n",
            "3.0536613892789966\n"
          ]
        }
      ]
    },
    {
      "cell_type": "markdown",
      "source": [
        "*Cho thấy build với epochs lớn, và factor lớn thì độ chính xác càng lớn. Nhưng trái lại thời gian build rất lâu; 85 epoch, 20 factor ~= 3h*"
      ],
      "metadata": {
        "id": "IGTbaYbJBsTP"
      }
    },
    {
      "cell_type": "markdown",
      "source": [
        "### A testing chains"
      ],
      "metadata": {
        "id": "w7PrOISTvPzU"
      }
    },
    {
      "cell_type": "code",
      "source": [
        "modelTwTwChains = SVDpp(datatrain, numFactor=20)\n",
        "modelTwTwChains.train(epochs=10)\n",
        "modelTwTwChains.train(epochs=20)\n",
        "modelTwTwChains.train(epochs=20)"
      ],
      "metadata": {
        "id": "lrW_Hu-qvVfb"
      },
      "execution_count": null,
      "outputs": []
    },
    {
      "cell_type": "code",
      "source": [
        "# predict rating\n",
        "#196\t242\t3\n",
        "#186\t302\t3\n",
        "#22\t377\t1\n",
        "print (modelTwTwChains.predict(196, 242))\n",
        "print (modelTwTwChains.predict(186\t,302))\n",
        "print (modelTwTwChains.predict(22,\t377))\n",
        "\n",
        "#1\t6\t5\t\n",
        "#1\t10\t3\t\n",
        "print(\"===================\")\n",
        "print (modelTwTwChains.predict(1\t,6))\n",
        "print (modelTwTwChains.predict(1,\t10))\n",
        "\n",
        "#247\t50\t5\t\n",
        "#328\t470\t4\t\n",
        "print(\"===================\")\n",
        "print (modelTwTwChains.predict(247\t,50))\n",
        "print (modelTwTwChains.predict(328,\t470))"
      ],
      "metadata": {
        "id": "tyd3qCoX3xzg"
      },
      "execution_count": null,
      "outputs": []
    },
    {
      "cell_type": "markdown",
      "metadata": {
        "id": "Wxt5_bEi3tbv"
      },
      "source": [
        "# Online phase - Recommend films"
      ]
    },
    {
      "cell_type": "code",
      "execution_count": null,
      "metadata": {
        "id": "ACYh1irpCuz1"
      },
      "outputs": [],
      "source": [
        "#model = SDVpp(), above\n",
        "userid=1\n",
        "amountMovie=3\n",
        "\n",
        "def checkItemRated(itemid, userid, model):\n",
        "  listItem = model.u_dict[userid]\n",
        "  for item in listItem:\n",
        "    if item == itemid:\n",
        "      return True\n",
        "  return False\n",
        "\n",
        "def recommendFilm(model, userid, amountMovieSystem=1682, amountMovie=3):\n",
        "  i=1\n",
        "  countItemRated=0\n",
        "  bestMovies = {}\n",
        "  while i <= amountMovieSystem:\n",
        "    if checkItemRated(i, userid, model):\n",
        "      #print(\"item is rated: \", i)\n",
        "      i+=1\n",
        "      countItemRated+=1\n",
        "      continue\n",
        "    bestMovies[i]=model.predict(userid, i)\n",
        "    #print(\"item is not rated\", i, \" with predict\", bestMovies[i])\n",
        "    i += 1\n",
        "  sortedBestMovies = sorted(bestMovies.items(), key=lambda x: x[1], reverse=True)\n",
        "  print(\"=======================================\")\n",
        "  print(\"bias:\", model.bu[userid])\n",
        "  print(\"number of rated:\", countItemRated)\n",
        "  return sortedBestMovies[0:amountMovie]\n"
      ]
    },
    {
      "cell_type": "code",
      "execution_count": null,
      "metadata": {
        "id": "6OrVcyYDePJd",
        "colab": {
          "base_uri": "https://localhost:8080/"
        },
        "outputId": "25689b07-44fa-4ea2-c16d-02bc09b720b0"
      },
      "outputs": [
        {
          "output_type": "stream",
          "name": "stdout",
          "text": [
            "=======================================\n",
            "bias: 0.023871366793141384\n",
            "number of rated: 135\n",
            "model [(12, 4.7880036310767125), (483, 4.755237093815905), (318, 4.727831206760823)]\n",
            "=======================================\n",
            "bias: 0.23620157297312752\n",
            "number of rated: 135\n",
            "modelFifTwe [(56, 5), (64, 5), (92, 5)]\n",
            "=======================================\n",
            "bias: 0.029071557066634456\n",
            "number of rated: 135\n",
            "modelHundFif [(64, 5), (98, 5), (100, 5)]\n"
          ]
        }
      ],
      "source": [
        "print(\"model\", recommendFilm(model, 1))\n",
        "print(\"modelFifTwe\",recommendFilm(modelFifTwe, 1))\n",
        "#print(\"modelTwTwChains\",recommendFilm(modelTwTwChains, 1))\n",
        "print(\"modelHundFif\",recommendFilm(modelHundFif, 1))"
      ]
    }
  ],
  "metadata": {
    "accelerator": "GPU",
    "colab": {
      "collapsed_sections": [
        "w7PrOISTvPzU"
      ],
      "name": "DA2-SVD++MatrixFactorization.ipynb",
      "provenance": []
    },
    "kernelspec": {
      "display_name": "Python 3",
      "language": "python",
      "name": "python3"
    },
    "language_info": {
      "codemirror_mode": {
        "name": "ipython",
        "version": 3
      },
      "file_extension": ".py",
      "mimetype": "text/x-python",
      "name": "python",
      "nbconvert_exporter": "python",
      "pygments_lexer": "ipython3",
      "version": "3.7.3"
    }
  },
  "nbformat": 4,
  "nbformat_minor": 0
}